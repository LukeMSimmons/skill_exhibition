{
 "cells": [
  {
   "cell_type": "markdown",
   "metadata": {},
   "source": [
    "## Histograms | Asteroid Impact Probability"
   ]
  },
  {
   "cell_type": "markdown",
   "metadata": {},
   "source": [
    "Given the orbital data of NEOs, we would like to build a regression model to predict the likelihood of impact.  First let's explore our data. "
   ]
  },
  {
   "cell_type": "markdown",
   "metadata": {},
   "source": [
    "#### Import Libraries & Setup Engines"
   ]
  },
  {
   "cell_type": "code",
   "execution_count": 1,
   "metadata": {},
   "outputs": [],
   "source": [
    "from datetime import datetime as dt \n",
    "import numpy as np\n",
    "import pandas as pd\n",
    "import sqlalchemy as sql\n",
    "import matplotlib.pyplot as plt\n",
    "import seaborn as sns\n",
    "\n",
    "sql_engine = sql.create_engine('mssql+pyodbc://@localhost')"
   ]
  },
  {
   "cell_type": "markdown",
   "metadata": {},
   "source": [
    "#### Read SQL table\n",
    "We are going to analyze some NEO asteriod measurements from NASA's Sentry system"
   ]
  },
  {
   "cell_type": "code",
   "execution_count": 4,
   "metadata": {},
   "outputs": [
    {
     "data": {
      "text/html": [
       "<div>\n",
       "<style scoped>\n",
       "    .dataframe tbody tr th:only-of-type {\n",
       "        vertical-align: middle;\n",
       "    }\n",
       "\n",
       "    .dataframe tbody tr th {\n",
       "        vertical-align: top;\n",
       "    }\n",
       "\n",
       "    .dataframe thead th {\n",
       "        text-align: right;\n",
       "    }\n",
       "</style>\n",
       "<table border=\"1\" class=\"dataframe\">\n",
       "  <thead>\n",
       "    <tr style=\"text-align: right;\">\n",
       "      <th></th>\n",
       "      <th>Period Start</th>\n",
       "      <th>Period End</th>\n",
       "      <th>Possible Impacts</th>\n",
       "      <th>Cumulative Impact Probability</th>\n",
       "      <th>Asteroid Velocity</th>\n",
       "      <th>Asteroid Magnitude</th>\n",
       "      <th>Asteroid Diameter (km)</th>\n",
       "      <th>Cumulative Palermo Scale</th>\n",
       "      <th>Maximum Palermo Scale</th>\n",
       "      <th>Maximum Torino Scale</th>\n",
       "    </tr>\n",
       "    <tr>\n",
       "      <th>Object Name</th>\n",
       "      <th></th>\n",
       "      <th></th>\n",
       "      <th></th>\n",
       "      <th></th>\n",
       "      <th></th>\n",
       "      <th></th>\n",
       "      <th></th>\n",
       "      <th></th>\n",
       "      <th></th>\n",
       "      <th></th>\n",
       "    </tr>\n",
       "  </thead>\n",
       "  <tbody>\n",
       "    <tr>\n",
       "      <th>2006 WP1</th>\n",
       "      <td>2017</td>\n",
       "      <td>2017</td>\n",
       "      <td>1</td>\n",
       "      <td>5.200000e-09</td>\n",
       "      <td>17.77</td>\n",
       "      <td>28.3</td>\n",
       "      <td>0.007</td>\n",
       "      <td>-8.31</td>\n",
       "      <td>-8.31</td>\n",
       "      <td>0</td>\n",
       "    </tr>\n",
       "    <tr>\n",
       "      <th>2013 YB</th>\n",
       "      <td>2017</td>\n",
       "      <td>2046</td>\n",
       "      <td>23</td>\n",
       "      <td>7.600000e-05</td>\n",
       "      <td>8.98</td>\n",
       "      <td>31.4</td>\n",
       "      <td>0.002</td>\n",
       "      <td>-6.60</td>\n",
       "      <td>-6.96</td>\n",
       "      <td>0</td>\n",
       "    </tr>\n",
       "    <tr>\n",
       "      <th>2008 US</th>\n",
       "      <td>2017</td>\n",
       "      <td>2062</td>\n",
       "      <td>30</td>\n",
       "      <td>1.600000e-05</td>\n",
       "      <td>18.33</td>\n",
       "      <td>31.4</td>\n",
       "      <td>0.002</td>\n",
       "      <td>-6.48</td>\n",
       "      <td>-6.87</td>\n",
       "      <td>0</td>\n",
       "    </tr>\n",
       "    <tr>\n",
       "      <th>2010 VR139</th>\n",
       "      <td>2017</td>\n",
       "      <td>2076</td>\n",
       "      <td>24</td>\n",
       "      <td>2.000000e-07</td>\n",
       "      <td>4.99</td>\n",
       "      <td>26.7</td>\n",
       "      <td>0.016</td>\n",
       "      <td>-6.83</td>\n",
       "      <td>-6.95</td>\n",
       "      <td>0</td>\n",
       "    </tr>\n",
       "    <tr>\n",
       "      <th>2015 ME131</th>\n",
       "      <td>2017</td>\n",
       "      <td>2096</td>\n",
       "      <td>85</td>\n",
       "      <td>2.300000e-08</td>\n",
       "      <td>19.46</td>\n",
       "      <td>19.2</td>\n",
       "      <td>0.497</td>\n",
       "      <td>-3.85</td>\n",
       "      <td>-4.30</td>\n",
       "      <td>0</td>\n",
       "    </tr>\n",
       "  </tbody>\n",
       "</table>\n",
       "</div>"
      ],
      "text/plain": [
       "             Period Start  Period End  Possible Impacts  \\\n",
       "Object Name                                               \n",
       "2006 WP1             2017        2017                 1   \n",
       "2013 YB              2017        2046                23   \n",
       "2008 US              2017        2062                30   \n",
       "2010 VR139           2017        2076                24   \n",
       "2015 ME131           2017        2096                85   \n",
       "\n",
       "             Cumulative Impact Probability  Asteroid Velocity  \\\n",
       "Object Name                                                     \n",
       "2006 WP1                      5.200000e-09              17.77   \n",
       "2013 YB                       7.600000e-05               8.98   \n",
       "2008 US                       1.600000e-05              18.33   \n",
       "2010 VR139                    2.000000e-07               4.99   \n",
       "2015 ME131                    2.300000e-08              19.46   \n",
       "\n",
       "             Asteroid Magnitude  Asteroid Diameter (km)  \\\n",
       "Object Name                                               \n",
       "2006 WP1                   28.3                   0.007   \n",
       "2013 YB                    31.4                   0.002   \n",
       "2008 US                    31.4                   0.002   \n",
       "2010 VR139                 26.7                   0.016   \n",
       "2015 ME131                 19.2                   0.497   \n",
       "\n",
       "             Cumulative Palermo Scale  Maximum Palermo Scale  \\\n",
       "Object Name                                                    \n",
       "2006 WP1                        -8.31                  -8.31   \n",
       "2013 YB                         -6.60                  -6.96   \n",
       "2008 US                         -6.48                  -6.87   \n",
       "2010 VR139                      -6.83                  -6.95   \n",
       "2015 ME131                      -3.85                  -4.30   \n",
       "\n",
       "            Maximum Torino Scale  \n",
       "Object Name                       \n",
       "2006 WP1                       0  \n",
       "2013 YB                        0  \n",
       "2008 US                        0  \n",
       "2010 VR139                     0  \n",
       "2015 ME131                     0  "
      ]
     },
     "execution_count": 4,
     "metadata": {},
     "output_type": "execute_result"
    }
   ],
   "source": [
    "table = 'ASTEROID_IMPACT'\n",
    "\n",
    "query = f\"SELECT * FROM {table}\"\n",
    "df = pd.read_sql_query(query, sql_engine, index_col='Object Name')\n",
    "df.head()"
   ]
  },
  {
   "cell_type": "markdown",
   "metadata": {},
   "source": [
    "### Plot a Histogram - Impact Probability\n",
    "Let's take a look at what the distribution of Cumulative Impact Probability looks like"
   ]
  },
  {
   "cell_type": "code",
   "execution_count": 17,
   "metadata": {},
   "outputs": [
    {
     "data": {
      "image/png": "[encoded data removed]",
      "text/plain": [
       "<Figure size 1008x360 with 1 Axes>"
      ]
     },
     "metadata": {
      "needs_background": "light"
     },
     "output_type": "display_data"
    }
   ],
   "source": [
    "plt.figure(figsize=(14,5))\n",
    "sns.histplot(x='Cumulative Impact Probability', data=df, bins=100)\n",
    "plt.ylim(0,5)\n",
    "plt.show()"
   ]
  },
  {
   "cell_type": "markdown",
   "metadata": {},
   "source": [
    "Ok, I wasn't expecting one of these to have such high probability.. let's ignore that for now.. and hope the bulk of the probability is during passes in the far future.."
   ]
  },
  {
   "cell_type": "code",
   "execution_count": 26,
   "metadata": {},
   "outputs": [
    {
     "data": {
      "image/png": "[encoded data removed]",
      "text/plain": [
       "<Figure size 1008x360 with 1 Axes>"
      ]
     },
     "metadata": {
      "needs_background": "light"
     },
     "output_type": "display_data"
    }
   ],
   "source": [
    "plt.figure(figsize=(14,5))\n",
    "sns.histplot(x='Cumulative Impact Probability', data=df, bins=800)\n",
    "plt.xlim(0, 0.003)\n",
    "plt.ylim(0, 5)\n",
    "plt.show()"
   ]
  },
  {
   "cell_type": "markdown",
   "metadata": {},
   "source": [
    "Let's zoom in more on that range under 0.00025"
   ]
  },
  {
   "cell_type": "code",
   "execution_count": 28,
   "metadata": {},
   "outputs": [
    {
     "data": {
      "image/png": "[encoded data removed]",
      "text/plain": [
       "<Figure size 1008x360 with 1 Axes>"
      ]
     },
     "metadata": {
      "needs_background": "light"
     },
     "output_type": "display_data"
    }
   ],
   "source": [
    "plt.figure(figsize=(14,5))\n",
    "sns.histplot(x='Cumulative Impact Probability', data=df, bins=6000)\n",
    "plt.xlim(0, 0.00025)\n",
    "plt.ylim(0, 100)\n",
    "plt.show()"
   ]
  },
  {
   "cell_type": "markdown",
   "metadata": {},
   "source": [
    "Alright it looks like a hyperbola, that's comforting."
   ]
  },
  {
   "cell_type": "markdown",
   "metadata": {},
   "source": [
    "#### Real quick, let's check on that outlier just to make sure"
   ]
  },
  {
   "cell_type": "code",
   "execution_count": 31,
   "metadata": {},
   "outputs": [
    {
     "data": {
      "text/html": [
       "<div>\n",
       "<style scoped>\n",
       "    .dataframe tbody tr th:only-of-type {\n",
       "        vertical-align: middle;\n",
       "    }\n",
       "\n",
       "    .dataframe tbody tr th {\n",
       "        vertical-align: top;\n",
       "    }\n",
       "\n",
       "    .dataframe thead th {\n",
       "        text-align: right;\n",
       "    }\n",
       "</style>\n",
       "<table border=\"1\" class=\"dataframe\">\n",
       "  <thead>\n",
       "    <tr style=\"text-align: right;\">\n",
       "      <th></th>\n",
       "      <th>Period Start</th>\n",
       "      <th>Period End</th>\n",
       "      <th>Possible Impacts</th>\n",
       "      <th>Cumulative Impact Probability</th>\n",
       "      <th>Asteroid Velocity</th>\n",
       "      <th>Asteroid Magnitude</th>\n",
       "      <th>Asteroid Diameter (km)</th>\n",
       "      <th>Cumulative Palermo Scale</th>\n",
       "      <th>Maximum Palermo Scale</th>\n",
       "      <th>Maximum Torino Scale</th>\n",
       "    </tr>\n",
       "    <tr>\n",
       "      <th>Object Name</th>\n",
       "      <th></th>\n",
       "      <th></th>\n",
       "      <th></th>\n",
       "      <th></th>\n",
       "      <th></th>\n",
       "      <th></th>\n",
       "      <th></th>\n",
       "      <th></th>\n",
       "      <th></th>\n",
       "      <th></th>\n",
       "    </tr>\n",
       "  </thead>\n",
       "  <tbody>\n",
       "    <tr>\n",
       "      <th>2010 RF12</th>\n",
       "      <td>2095</td>\n",
       "      <td>2115</td>\n",
       "      <td>52</td>\n",
       "      <td>0.065</td>\n",
       "      <td>5.1</td>\n",
       "      <td>28.4</td>\n",
       "      <td>0.007</td>\n",
       "      <td>-3.2</td>\n",
       "      <td>-3.2</td>\n",
       "      <td>0</td>\n",
       "    </tr>\n",
       "  </tbody>\n",
       "</table>\n",
       "</div>"
      ],
      "text/plain": [
       "             Period Start  Period End  Possible Impacts  \\\n",
       "Object Name                                               \n",
       "2010 RF12            2095        2115                52   \n",
       "\n",
       "             Cumulative Impact Probability  Asteroid Velocity  \\\n",
       "Object Name                                                     \n",
       "2010 RF12                            0.065                5.1   \n",
       "\n",
       "             Asteroid Magnitude  Asteroid Diameter (km)  \\\n",
       "Object Name                                               \n",
       "2010 RF12                  28.4                   0.007   \n",
       "\n",
       "             Cumulative Palermo Scale  Maximum Palermo Scale  \\\n",
       "Object Name                                                    \n",
       "2010 RF12                        -3.2                   -3.2   \n",
       "\n",
       "            Maximum Torino Scale  \n",
       "Object Name                       \n",
       "2010 RF12                      0  "
      ]
     },
     "execution_count": 31,
     "metadata": {},
     "output_type": "execute_result"
    }
   ],
   "source": [
    "df[df['Cumulative Impact Probability'] > 0.06]"
   ]
  },
  {
   "cell_type": "markdown",
   "metadata": {},
   "source": [
    "Nice, we don't have to worry about that for a while. "
   ]
  },
  {
   "cell_type": "markdown",
   "metadata": {},
   "source": [
    "### Plot another Histogram - Velocity\n",
    "We are curious about the distribution of asteriod velocities because reasons"
   ]
  },
  {
   "cell_type": "code",
   "execution_count": 35,
   "metadata": {},
   "outputs": [
    {
     "data": {
      "image/png": "[encoded data removed]",
      "text/plain": [
       "<Figure size 1008x360 with 1 Axes>"
      ]
     },
     "metadata": {
      "needs_background": "light"
     },
     "output_type": "display_data"
    }
   ],
   "source": [
    "plt.figure(figsize=(14,5))\n",
    "sns.histplot(x='Asteroid Velocity', data=df)\n",
    "plt.xlim(0,)\n",
    "plt.ylim(0)\n",
    "plt.show()"
   ]
  },
  {
   "cell_type": "markdown",
   "metadata": {},
   "source": [
    "A nice looking distribution with the mode around 7-8 velocity units"
   ]
  },
  {
   "cell_type": "markdown",
   "metadata": {},
   "source": [
    "### Plot yet another Histogram - Magnitude"
   ]
  },
  {
   "cell_type": "code",
   "execution_count": 37,
   "metadata": {},
   "outputs": [
    {
     "data": {
      "image/png": "[encoded data removed]",
      "text/plain": [
       "<Figure size 1008x360 with 1 Axes>"
      ]
     },
     "metadata": {
      "needs_background": "light"
     },
     "output_type": "display_data"
    }
   ],
   "source": [
    "plt.figure(figsize=(14,5))\n",
    "sns.histplot(x='Asteroid Magnitude', data=df)\n",
    "plt.show()"
   ]
  },
  {
   "cell_type": "markdown",
   "metadata": {},
   "source": [
    "Interesting, velocity has a fat tail on the right, and magnitude has one on the left. We can explore a possible connection here in the **correlation_matrix** notebook"
   ]
  },
  {
   "cell_type": "markdown",
   "metadata": {},
   "source": [
    "### Alright one last Histogram - Diameter\n",
    "Let's look at how big these things are"
   ]
  },
  {
   "cell_type": "code",
   "execution_count": 44,
   "metadata": {},
   "outputs": [
    {
     "data": {
      "image/png": "[encoded data removed]",
      "text/plain": [
       "<Figure size 1008x360 with 1 Axes>"
      ]
     },
     "metadata": {
      "needs_background": "light"
     },
     "output_type": "display_data"
    }
   ],
   "source": [
    "plt.figure(figsize=(14,5))\n",
    "sns.histplot(x='Asteroid Diameter (km)', data=df)\n",
    "plt.xlim(0, 0.5)\n",
    "plt.ylim(0, 70)\n",
    "plt.show()"
   ]
  },
  {
   "cell_type": "markdown",
   "metadata": {},
   "source": [
    "Lots and lots of little asteriods and a few pretty big ones.  The high probability one is small, I checked. "
   ]
  },
  {
   "cell_type": "markdown",
   "metadata": {},
   "source": [
    "### Findings\n",
    "We got a better idea of how our data is distributed.  We are now interested in how these variables interact with eachother. For that, take a look at the **correlation_matrix** and **scatter_plots** notebooks"
   ]
  }
 ],
 "metadata": {
  "kernelspec": {
   "display_name": "Python 3 (ipykernel)",
   "language": "python",
   "name": "python3"
  },
  "language_info": {
   "codemirror_mode": {
    "name": "ipython",
    "version": 3
   },
   "file_extension": ".py",
   "mimetype": "text/x-python",
   "name": "python",
   "nbconvert_exporter": "python",
   "pygments_lexer": "ipython3",
   "version": "3.8.12"
  }
 },
 "nbformat": 4,
 "nbformat_minor": 4
}
