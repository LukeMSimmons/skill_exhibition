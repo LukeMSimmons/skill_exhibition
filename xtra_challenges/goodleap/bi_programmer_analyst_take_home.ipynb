{
 "cells": [
  {
   "cell_type": "markdown",
   "metadata": {},
   "source": [
    "## BI Programmer Analyst Take Home"
   ]
  },
  {
   "cell_type": "markdown",
   "metadata": {},
   "source": [
    "#### Import Libraries & Setup Engines\n",
    "I set up an ODBC Data Source called localhost to make connection a bit cleaner "
   ]
  },
  {
   "cell_type": "code",
   "execution_count": 2,
   "metadata": {},
   "outputs": [],
   "source": [
    "import numpy as np\n",
    "import pandas as pd\n",
    "import sqlalchemy as sql\n",
    "import plotly.express as px\n",
    "import plotly.graph_objects as go \n",
    "\n",
    "sql_engine = sql.create_engine('mssql+pyodbc://@localhost')"
   ]
  },
  {
   "cell_type": "markdown",
   "metadata": {},
   "source": [
    "#### Read the file & write into a SQL Server table "
   ]
  },
  {
   "cell_type": "code",
   "execution_count": 3,
   "metadata": {},
   "outputs": [],
   "source": [
    "filename = 'GoodleapSmallSchemaExample.xlsx' \n",
    "sheet_dt = {'loan_submission':['timestamp'], 'customer':['created_date', 'last_updated']}\n",
    "\n",
    "for sheet in sheet_dt: \n",
    "    df = pd.read_excel(filename, sheet_name=sheet) \n",
    "    sql_engine.execute(f'DROP TABLE IF EXISTS {sheet}') \n",
    "    df.to_sql(sheet, sql_engine, index=False)"
   ]
  },
  {
   "cell_type": "markdown",
   "metadata": {},
   "source": [
    "#### 1. Write a SQL query that gets the latest loan amount and customer credit score for all loans."
   ]
  },
  {
   "cell_type": "code",
   "execution_count": 4,
   "metadata": {},
   "outputs": [
    {
     "data": {
      "text/html": [
       "<div>\n",
       "<style scoped>\n",
       "    .dataframe tbody tr th:only-of-type {\n",
       "        vertical-align: middle;\n",
       "    }\n",
       "\n",
       "    .dataframe tbody tr th {\n",
       "        vertical-align: top;\n",
       "    }\n",
       "\n",
       "    .dataframe thead th {\n",
       "        text-align: right;\n",
       "    }\n",
       "</style>\n",
       "<table border=\"1\" class=\"dataframe\">\n",
       "  <thead>\n",
       "    <tr style=\"text-align: right;\">\n",
       "      <th></th>\n",
       "      <th>loan_id</th>\n",
       "      <th>loan amount</th>\n",
       "      <th>credit_score</th>\n",
       "    </tr>\n",
       "  </thead>\n",
       "  <tbody>\n",
       "    <tr>\n",
       "      <th>0</th>\n",
       "      <td>00589L015</td>\n",
       "      <td>4000</td>\n",
       "      <td>680</td>\n",
       "    </tr>\n",
       "    <tr>\n",
       "      <th>1</th>\n",
       "      <td>00589L029</td>\n",
       "      <td>9200</td>\n",
       "      <td>702</td>\n",
       "    </tr>\n",
       "  </tbody>\n",
       "</table>\n",
       "</div>"
      ],
      "text/plain": [
       "     loan_id  loan amount  credit_score\n",
       "0  00589L015         4000           680\n",
       "1  00589L029         9200           702"
      ]
     },
     "execution_count": 4,
     "metadata": {},
     "output_type": "execute_result"
    }
   ],
   "source": [
    "query = f\"\"\"\n",
    "\n",
    "WITH latest_loan (loan_id, max_time) AS (\n",
    "  SELECT loan_id, MAX(timestamp) as max_time\n",
    "    FROM loan_submission\n",
    "   GROUP BY loan_id), \n",
    "\n",
    "latest_cs (Customer_id, credit_score, rank) AS (\n",
    "  SELECT Customer_id, credit_score, \n",
    "         RANK () OVER (PARTITION BY Customer_id\n",
    "                       ORDER BY last_updated DESC) AS rank \n",
    "    FROM customer) \n",
    "\n",
    "SELECT ls.loan_id, ls.[loan amount], lcs.credit_score \n",
    "  FROM loan_submission ls \n",
    "  JOIN latest_loan ll \n",
    "    ON ls.loan_id = ll.loan_id \n",
    "   AND ls.timestamp = ll.max_time \n",
    "  JOIN latest_cs lcs \n",
    "    ON ls.customer_id = lcs.Customer_id \n",
    "   AND lcs.rank = 1 \n",
    " ORDER BY loan_id \n",
    "\n",
    "\"\"\"\n",
    "df = pd.read_sql_query(query, sql_engine)\n",
    "df.head(20)"
   ]
  },
  {
   "cell_type": "markdown",
   "metadata": {},
   "source": [
    "\n",
    "#### 2. Write a query that returns the loan amount per stage on a monthly basis year to date. \n",
    "Do not show data for incomplete months.\n"
   ]
  },
  {
   "cell_type": "code",
   "execution_count": 5,
   "metadata": {},
   "outputs": [
    {
     "data": {
      "text/html": [
       "<div>\n",
       "<style scoped>\n",
       "    .dataframe tbody tr th:only-of-type {\n",
       "        vertical-align: middle;\n",
       "    }\n",
       "\n",
       "    .dataframe tbody tr th {\n",
       "        vertical-align: top;\n",
       "    }\n",
       "\n",
       "    .dataframe thead th {\n",
       "        text-align: right;\n",
       "    }\n",
       "</style>\n",
       "<table border=\"1\" class=\"dataframe\">\n",
       "  <thead>\n",
       "    <tr style=\"text-align: right;\">\n",
       "      <th></th>\n",
       "      <th>stage</th>\n",
       "      <th>month</th>\n",
       "      <th>loan amount</th>\n",
       "    </tr>\n",
       "  </thead>\n",
       "  <tbody>\n",
       "    <tr>\n",
       "      <th>0</th>\n",
       "      <td>1</td>\n",
       "      <td>09</td>\n",
       "      <td>30900</td>\n",
       "    </tr>\n",
       "    <tr>\n",
       "      <th>1</th>\n",
       "      <td>2</td>\n",
       "      <td>09</td>\n",
       "      <td>11000</td>\n",
       "    </tr>\n",
       "    <tr>\n",
       "      <th>2</th>\n",
       "      <td>3</td>\n",
       "      <td>09</td>\n",
       "      <td>11100</td>\n",
       "    </tr>\n",
       "    <tr>\n",
       "      <th>3</th>\n",
       "      <td>4</td>\n",
       "      <td>09</td>\n",
       "      <td>4500</td>\n",
       "    </tr>\n",
       "    <tr>\n",
       "      <th>4</th>\n",
       "      <td>5</td>\n",
       "      <td>09</td>\n",
       "      <td>4500</td>\n",
       "    </tr>\n",
       "    <tr>\n",
       "      <th>5</th>\n",
       "      <td>6</td>\n",
       "      <td>09</td>\n",
       "      <td>4500</td>\n",
       "    </tr>\n",
       "  </tbody>\n",
       "</table>\n",
       "</div>"
      ],
      "text/plain": [
       "   stage month  loan amount\n",
       "0      1    09        30900\n",
       "1      2    09        11000\n",
       "2      3    09        11100\n",
       "3      4    09         4500\n",
       "4      5    09         4500\n",
       "5      6    09         4500"
      ]
     },
     "execution_count": 5,
     "metadata": {},
     "output_type": "execute_result"
    }
   ],
   "source": [
    "query = f\"\"\"\n",
    "\n",
    "SELECT stage, SUBSTRING(timestamp, 6, 2) as month, SUM([loan amount]) AS [loan amount] \n",
    "  FROM loan_submission ls \n",
    " WHERE LEFT(timestamp, 4) = '2022' \n",
    " GROUP BY stage, SUBSTRING(timestamp, 6, 2)\n",
    " ORDER BY stage, month\n",
    "\n",
    "\"\"\"\n",
    "df = pd.read_sql_query(query, sql_engine)\n",
    "df.head(20)"
   ]
  },
  {
   "cell_type": "markdown",
   "metadata": {},
   "source": [
    "\n",
    "#### 3. We’d like to construct a new metric: loan drift \n",
    "Captures how much the loan amount changes as it moves through the pipeline. <br>\n",
    "How would you go about designing that metric and what questions would you ask the business?\n"
   ]
  },
  {
   "cell_type": "markdown",
   "metadata": {},
   "source": [
    "- Perhaps temporal distance from t0 is interesting in addition to stage \n",
    "- Need to understand preference of low volatility vs high sensitivity to set temporal/longitudinal frequency \n",
    "- Perhaps a variable timeframe slider on an interactive dashboard element would be useful in that case \n",
    "- Understand cohorts that may vary differently (homogeneity of variance) \n",
    "- Need to understand preference of recall vs precision (how much deviance is meaningful)\n",
    "- Understand need to control for long-term trends, seasonality, initialization periods, etc. "
   ]
  },
  {
   "cell_type": "markdown",
   "metadata": {},
   "source": [
    "\n",
    "#### 4. Write a SQL query that could be charted using a tool like Tableau to provide Loan Drift visibility to the business. \n",
    "Clearly state any assumptions made in the analysis\n"
   ]
  },
  {
   "cell_type": "markdown",
   "metadata": {},
   "source": [
    "- For expediency , I chose to show a Pythonic example. \n",
    "- This code would calculate the stage/stage ratio for each stage"
   ]
  },
  {
   "cell_type": "code",
   "execution_count": 9,
   "metadata": {},
   "outputs": [
    {
     "data": {
      "text/html": [
       "<div>\n",
       "<style scoped>\n",
       "    .dataframe tbody tr th:only-of-type {\n",
       "        vertical-align: middle;\n",
       "    }\n",
       "\n",
       "    .dataframe tbody tr th {\n",
       "        vertical-align: top;\n",
       "    }\n",
       "\n",
       "    .dataframe thead th {\n",
       "        text-align: right;\n",
       "    }\n",
       "</style>\n",
       "<table border=\"1\" class=\"dataframe\">\n",
       "  <thead>\n",
       "    <tr style=\"text-align: right;\">\n",
       "      <th></th>\n",
       "      <th>loan_id</th>\n",
       "      <th>stage</th>\n",
       "      <th>loan amount</th>\n",
       "    </tr>\n",
       "  </thead>\n",
       "  <tbody>\n",
       "    <tr>\n",
       "      <th>0</th>\n",
       "      <td>00589L015</td>\n",
       "      <td>1</td>\n",
       "      <td>5900</td>\n",
       "    </tr>\n",
       "    <tr>\n",
       "      <th>1</th>\n",
       "      <td>00589L015</td>\n",
       "      <td>2</td>\n",
       "      <td>4000</td>\n",
       "    </tr>\n",
       "    <tr>\n",
       "      <th>2</th>\n",
       "      <td>00589L017</td>\n",
       "      <td>3</td>\n",
       "      <td>3900</td>\n",
       "    </tr>\n",
       "  </tbody>\n",
       "</table>\n",
       "</div>"
      ],
      "text/plain": [
       "     loan_id  stage  loan amount\n",
       "0  00589L015      1         5900\n",
       "1  00589L015      2         4000\n",
       "2  00589L017      3         3900"
      ]
     },
     "execution_count": 9,
     "metadata": {},
     "output_type": "execute_result"
    }
   ],
   "source": [
    "query = f\"\"\"\n",
    "\n",
    "SELECT loan_id, stage, SUM([loan amount]) as [loan amount] \n",
    "  FROM loan_submission \n",
    " WHERE LEFT(timestamp, 4) = '2022' \n",
    " GROUP BY loan_id, stage\n",
    " ORDER BY loan_id, stage\n",
    "\n",
    "\"\"\"\n",
    "df = pd.read_sql_query(query, sql_engine)\n",
    "df.head(3)"
   ]
  },
  {
   "cell_type": "code",
   "execution_count": null,
   "metadata": {},
   "outputs": [],
   "source": [
    "dfs = [df[df['stage']==stage] for stage in sorted(df['stage'].unique())]\n",
    "\n",
    "dfi = dfs[0]\n",
    "\n",
    "for i in range(len(df['stage'].unique() - 1)): \n",
    "    dfi.merge(dfs[i+1], on='loan_id', suffixes=('', f'_{i+1}'))\n",
    "    dfi.loc[:,f'drift_{i+1}'] = round(df[f'loan amount_{i+2}'] / df[f'loan amount_{i+1}'], 2)\n",
    "\n",
    "dfi.loc[:,f'drift_0'] = round(df[f'loan amount_1'] - df[f'loan amount'], 2) "
   ]
  },
  {
   "cell_type": "markdown",
   "metadata": {},
   "source": [
    "\n",
    "#### 5. Describe the type of chart/charts you would provide to visualize loan drift over time. "
   ]
  },
  {
   "cell_type": "markdown",
   "metadata": {},
   "source": [
    "- It would look a bit like this, but with less missing data. \n",
    "- Also, the y axis would be the normalized drift ratio (calculated above) instead of the nominal loan amount\n",
    "- With more time, I'd create an interactive dashboard that defaults to showing the most volatile loans, with dropdowns\n",
    "- Volatility could be ranked using something like Coefficient of Variance (std dev / mean) for each loan "
   ]
  },
  {
   "cell_type": "code",
   "execution_count": 15,
   "metadata": {},
   "outputs": [
    {
     "data": {
      "image/png": "[encoded data removed]"
     },
     "metadata": {},
     "output_type": "display_data"
    }
   ],
   "source": [
    "df.sort_values('stage', inplace=True)\n",
    "fig = px.line(df, x='stage', y='loan amount', color='loan_id', width=1200)\n",
    "fig.show('png')"
   ]
  },
  {
   "cell_type": "markdown",
   "metadata": {},
   "source": [
    "Thanks for reading! "
   ]
  },
  {
   "cell_type": "markdown",
   "metadata": {},
   "source": [
    "Luke Simmons - 2022"
   ]
  }
 ],
 "metadata": {
  "kernelspec": {
   "display_name": "Python 3.8.12 ('base')",
   "language": "python",
   "name": "python3"
  },
  "language_info": {
   "codemirror_mode": {
    "name": "ipython",
    "version": 3
   },
   "file_extension": ".py",
   "mimetype": "text/x-python",
   "name": "python",
   "nbconvert_exporter": "python",
   "pygments_lexer": "ipython3",
   "version": "3.8.12"
  },
  "vscode": {
   "interpreter": {
    "hash": "ed7ef66ca6ee0be0542e388e60502d187c7787a81c023663411bb1cb56b5a25f"
   }
  }
 },
 "nbformat": 4,
 "nbformat_minor": 4
}
